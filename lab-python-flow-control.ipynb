{
 "cells": [
  {
   "cell_type": "code",
   "execution_count": null,
   "id": "16e6a8d3-e41b-418c-9354-3c26c5fa074f",
   "metadata": {},
   "outputs": [],
   "source": [
    "#Lab | Flow ControlExercise: Managing Customer Orders Optimized\n",
    "#In the last lab, you were starting an online store that sells various products. \n",
    "#To ensure smooth operations, you developed a program that manages customer orders and inventory.\n",
    "\n",
    "#You did so without using flow control. Let's go a step further and improve this code.\n",
    "#Follow the steps below to complete the exercise:"
   ]
  },
  {
   "cell_type": "code",
   "execution_count": 7,
   "id": "8a7beafa-d8cc-4a59-b826-2395b81dfd31",
   "metadata": {},
   "outputs": [
    {
     "name": "stdout",
     "output_type": "stream",
     "text": [
      "Welcome to Lab2-flow control exercise!\n",
      "\n",
      "Let's start by informing the quantity of each product in our stock!\n",
      "\n"
     ]
    },
    {
     "name": "stdin",
     "output_type": "stream",
     "text": [
      "Input the quantity for t-shirt 15\n",
      "Input the quantity for mug 12\n",
      "Input the quantity for hat 45\n",
      "Input the quantity for book 21\n",
      "Input the quantity for keychain 5\n"
     ]
    },
    {
     "name": "stdout",
     "output_type": "stream",
     "text": [
      "\n",
      " This is your inventory:\n",
      "{'t-shirt': 15, 'mug': 12, 'hat': 45, 'book': 21, 'keychain': 5}\n",
      "\n"
     ]
    },
    {
     "name": "stdin",
     "output_type": "stream",
     "text": [
      "Enter the name of a product that a customer wants to order! Bycicle\n",
      "Do you want to order another product? (yes/no) yes\n",
      "Enter the name of a product that a customer wants to order! mug\n",
      "Do you want to order another product? (yes/no) yes\n",
      "Enter the name of a product that a customer wants to order! keychain\n",
      "Do you want to order another product? (yes/no) no\n"
     ]
    },
    {
     "name": "stdout",
     "output_type": "stream",
     "text": [
      "\n",
      " The customer ordered these items:\n",
      "{'Bycicle', 'keychain', 'mug'}\n",
      "\n",
      "This is your current inventory:\n",
      "{'t-shirt': 15, 'mug': 12, 'hat': 45, 'book': 21, 'keychain': 5}\n",
      "\n",
      "Updating the inventory by subtracting 1 from the quantity of each product that is present on the inventory and were ordered by customer!\n",
      "{'t-shirt': 15, 'mug': 11, 'hat': 45, 'book': 21, 'keychain': 4}\n",
      "\n",
      "End of the exercise!\n"
     ]
    }
   ],
   "source": [
    "#1.Look at your code from the lab data structures, and improve repeated code with loops.\n",
    "products = [\"t-shirt\", \"mug\", \"hat\", \"book\", \"keychain\"]\n",
    "inventory={}\n",
    "customer_orders=set()\n",
    "print(f\"Welcome to Lab2-flow control exercise!\\n\")  \n",
    "print(f\"Let's start by informing the quantity of each product in our stock!\\n\")\n",
    "\n",
    "#first we have to fill in the inventory then we can start ordering something\n",
    "for prod in products:\n",
    "    quantity=input(f\"Input the quantity for {prod}\")\n",
    "    inventory[prod]=int(quantity)\n",
    "  \n",
    "print(f\"\\n This is your inventory:\")\n",
    "print(f\"{inventory}\\n\")\n",
    "\n",
    "#2.Instead of asking the user to input the name of three products that a customer wants to order, do the following:\n",
    "\n",
    "answer=\"yes\"\n",
    "while answer.lower()==\"yes\":\n",
    "#a. Prompt the user to enter the name of a product that a customer wants to order.\n",
    "    new_product=input(f\"Enter the name of a product that a customer wants to order!\")\n",
    "#b. Add the product name to the \"customer_orders\" set.\n",
    "    customer_orders.add(new_product)\n",
    "#c. Ask the user if they want to add another product (yes/no).    \n",
    "    answer=input(f\"Do you want to order another product? (yes/no)\")\n",
    "#d. Continue the loop until the user does not want to add another product.\n",
    "\n",
    "print(f\"\\n The customer ordered these items:\")\n",
    "print(f\"{customer_orders}\\n\")\n",
    "\n",
    "#3.Instead of updating the inventory by subtracting 1 from the quantity of each product, only do it for the products that were \n",
    "#ordered (those in \"customer_orders\").\n",
    "print(\"This is your current inventory:\")\n",
    "print(f\"{inventory}\\n\")\n",
    "\n",
    "print(f\"Updating the inventory by subtracting 1, from the quantity of the product present on the inventory and that was ordered by customer!\")\n",
    "for item in customer_orders:\n",
    "    if item in products:\n",
    "        inventory[item]-=1\n",
    "    #except:\n",
    "    #    print(\"produto nao encontrado\")\n",
    "print(f\"{inventory}\\n\")\n",
    "print(\"End of the exercise!\")"
   ]
  },
  {
   "cell_type": "code",
   "execution_count": null,
   "id": "2f867205-a69c-4632-b156-f00eaddc0b40",
   "metadata": {},
   "outputs": [],
   "source": []
  }
 ],
 "metadata": {
  "kernelspec": {
   "display_name": "Python 3 (ipykernel)",
   "language": "python",
   "name": "python3"
  },
  "language_info": {
   "codemirror_mode": {
    "name": "ipython",
    "version": 3
   },
   "file_extension": ".py",
   "mimetype": "text/x-python",
   "name": "python",
   "nbconvert_exporter": "python",
   "pygments_lexer": "ipython3",
   "version": "3.11.7"
  }
 },
 "nbformat": 4,
 "nbformat_minor": 5
}
